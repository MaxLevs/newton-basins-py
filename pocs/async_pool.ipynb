{
 "cells": [
  {
   "metadata": {
    "collapsed": true,
    "ExecuteTime": {
     "end_time": "2025-05-24T11:31:25.313527Z",
     "start_time": "2025-05-24T11:31:25.161249Z"
    }
   },
   "cell_type": "code",
   "source": [
    "import time\n",
    "\n",
    "def do_shit(i):\n",
    "    print(f\"start: {i}\")\n",
    "    print(f\"end: {i}\")\n",
    "    return i\n",
    "\n",
    "data_input = range(10)\n",
    "\n",
    "def get_data():\n",
    "    with Pool() as pool:\n",
    "        return pool.map(do_shit, data_input)\n",
    "\n",
    "data = get_data()\n",
    "data"
   ],
   "id": "initial_id",
   "outputs": [
    {
     "data": {
      "text/plain": [
       "[0, 1, 2, 3, 4, 5, 6, 7, 8, 9]"
      ]
     },
     "execution_count": 2,
     "metadata": {},
     "output_type": "execute_result"
    }
   ],
   "execution_count": 2
  }
 ],
 "metadata": {
  "kernelspec": {
   "display_name": "Python 3",
   "language": "python",
   "name": "python3"
  },
  "language_info": {
   "codemirror_mode": {
    "name": "ipython",
    "version": 2
   },
   "file_extension": ".py",
   "mimetype": "text/x-python",
   "name": "python",
   "nbconvert_exporter": "python",
   "pygments_lexer": "ipython2",
   "version": "2.7.6"
  }
 },
 "nbformat": 4,
 "nbformat_minor": 5
}
