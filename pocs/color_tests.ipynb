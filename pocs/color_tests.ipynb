{
 "cells": [
  {
   "cell_type": "code",
   "id": "initial_id",
   "metadata": {
    "collapsed": true,
    "ExecuteTime": {
     "end_time": "2025-05-24T12:12:06.252423Z",
     "start_time": "2025-05-24T12:12:06.212206Z"
    }
   },
   "source": [
    "from PIL import Image\n",
    "from colorsys import hsv_to_rgb\n",
    "\n",
    "image = Image.new(\"RGB\", (255, 255), \"black\")\n",
    "pixels = image.load()\n",
    "for x, y in [(x, y) for x in range(image.size[0]) for y in range(image.size[1])]:\n",
    "    r,g,b = hsv_to_rgb(0, 1, 1)\n",
    "    pixels[x, y] = (int(r * 255), int(g * 255), int(b * 255))\n",
    "\n",
    "image.show()\n"
   ],
   "outputs": [],
   "execution_count": 18
  }
 ],
 "metadata": {
  "kernelspec": {
   "display_name": "Python 3",
   "language": "python",
   "name": "python3"
  },
  "language_info": {
   "codemirror_mode": {
    "name": "ipython",
    "version": 2
   },
   "file_extension": ".py",
   "mimetype": "text/x-python",
   "name": "python",
   "nbconvert_exporter": "python",
   "pygments_lexer": "ipython2",
   "version": "2.7.6"
  }
 },
 "nbformat": 4,
 "nbformat_minor": 5
}
