{
 "cells": [
  {
   "metadata": {},
   "cell_type": "markdown",
   "source": [
    "# Newton's basins\n",
    "\n",
    "Newton's basins is a family of fractals that shows how found root of equation depends on selected starting point using Newton's method.\n",
    "The Newton's method is a way to find an approximate root of an equation using the first derivative of a equation function.\n",
    "The basins can be kinda beautiful, so I want to create a way to draw them.\n",
    "\n",
    "Firstly let's get some config values and constants."
   ],
   "id": "b3a109d55a253660"
  },
  {
   "metadata": {
    "ExecuteTime": {
     "end_time": "2025-05-25T05:04:27.718939Z",
     "start_time": "2025-05-25T05:04:27.715204Z"
    }
   },
   "cell_type": "code",
   "source": [
    "target_roots = [\n",
    "    1.2 - 4*1j,\n",
    "    3 + 2.4*1j,\n",
    "    -1.2 - 1.4*1j\n",
    "]\n",
    "max_iterations = 100\n",
    "\n",
    "# screen_x_max = 2560\n",
    "# screen_y_max = 1440\n",
    "screen_x_max = 256\n",
    "screen_y_max = 256\n",
    "eye_vx = 2. - 0.2\n",
    "eye_vy = 1. - 0.4\n",
    "eye_zoom = 40.\n",
    "\n",
    "screen_size = (screen_x_max, screen_y_max)\n",
    "vx0, vy0 = screen_x_max / 2., screen_y_max / 2.\n",
    "zoom = min(screen_x_max, screen_y_max) * eye_zoom / 10.\n",
    "\n",
    "class DataFields:\n",
    "    screen_x = 'Screen X'\n",
    "    screen_y = 'Screen Y'\n",
    "    root_virtual_x = 'Root Virtual X'\n",
    "    root_virtual_y = 'Root Virtual Y'\n",
    "    converged = 'Converged'\n",
    "    label = 'Label'\n",
    "    color = 'Color'\n",
    "\n",
    "v_min = 80\n",
    "v_max = 100\n",
    "saturation_value = 90\n",
    "color_by_labels = {\n",
    "    # hsv - (h, s, v_min, v_max)\n",
    "    0: (00, saturation_value, v_min, v_min),\n",
    "    1: (40, saturation_value, v_min, v_min),\n",
    "    2: (70, saturation_value, v_min, v_min),\n",
    "}"
   ],
   "id": "aa4f163f3ce312a8",
   "outputs": [],
   "execution_count": 1
  },
  {
   "metadata": {},
   "cell_type": "markdown",
   "source": "Then let's use these constants to define coordinates convertions function (screen to world and vice versa).",
   "id": "4efa08a16045c02d"
  },
  {
   "metadata": {
    "ExecuteTime": {
     "end_time": "2025-05-25T05:04:27.843507Z",
     "start_time": "2025-05-25T05:04:27.840183Z"
    }
   },
   "cell_type": "code",
   "source": [
    "def virtual_to_screen(vx: float, vy: float) -> (int, int):\n",
    "    sx = int(round(vx0 - (eye_vx - vx) * zoom))\n",
    "    sy = int(round(vy0 - (vy - eye_vy) * zoom))\n",
    "    return sx, sy\n",
    "\n",
    "def screen_to_virtual(sx: int, sy: int) -> (float, float):\n",
    "    vx = (sx - vx0) / zoom + eye_vx\n",
    "    vy = (vy0 - sy) / zoom + eye_vy\n",
    "    return vx, vy"
   ],
   "id": "818452b807114ae9",
   "outputs": [],
   "execution_count": 2
  },
  {
   "metadata": {},
   "cell_type": "markdown",
   "source": [
    "In the configuration we have a list of roots. To create basins we neet to create a function out of it and then find the first and the second derivatives for this function.\n",
    "\n",
    "Code bellow uses symbolic calculations to define that function as multiplication of `(x - root)` and then find the first derivative.\n",
    "The function and the derivatives are built from expressions."
   ],
   "id": "102f3f4c01e7b33b"
  },
  {
   "metadata": {
    "ExecuteTime": {
     "end_time": "2025-05-25T05:04:29.145093Z",
     "start_time": "2025-05-25T05:04:27.849848Z"
    }
   },
   "cell_type": "code",
   "source": [
    "from sympy import symbols, diff, lambdify\n",
    "from math import prod\n",
    "\n",
    "def create_function(roots):\n",
    "    variable = symbols('z')\n",
    "    func_f = prod(map(lambda root: variable - root, roots))\n",
    "    func_df = diff(func_f, variable)\n",
    "    return lambdify(variable, func_f, 'numpy'), lambdify(variable, func_df, 'numpy')\n",
    "\n",
    "f, df = create_function(target_roots)"
   ],
   "id": "702e39850434cb13",
   "outputs": [],
   "execution_count": 3
  },
  {
   "metadata": {},
   "cell_type": "markdown",
   "source": [
    "Now that we have the function and the derivative we can use the Newton method of approximate equations solving to create basins.\n",
    "\n",
    "To do that we convert every point of screen (image) into world (virtual) Decart's coordinates and acquired coordinates as seed points (`x + yi`) to find a some of the roots of the equation."
   ],
   "id": "b96f51478387d579"
  },
  {
   "metadata": {
    "ExecuteTime": {
     "end_time": "2025-05-25T05:04:29.914224Z",
     "start_time": "2025-05-25T05:04:29.150974Z"
    }
   },
   "cell_type": "code",
   "source": [
    "import numpy as np\n",
    "import pandas as pd\n",
    "import scipy.optimize as sopt\n",
    "\n",
    "def get_roots_out_of_screen_points():\n",
    "    sps = np.array([(sx, sy) for sx in range(screen_size[0]) for sy in range(screen_size[1])])\n",
    "    spsx, spsy = sps[:, 0], sps[:, 1]\n",
    "    vpsx, vpsy = screen_to_virtual(spsx, spsy)\n",
    "    vps = vpsx + vpsy * 1j\n",
    "    res = sopt.newton(f, fprime=df, x0=vps, maxiter=max_iterations, full_output=True)\n",
    "    return pd.DataFrame.from_dict({\n",
    "        DataFields.screen_x: spsx,\n",
    "        DataFields.screen_y: spsy,\n",
    "        DataFields.root_virtual_x: np.vectorize(lambda z: z.real)(res.root),\n",
    "        DataFields.root_virtual_y: np.vectorize(lambda z: z.imag)(res.root),\n",
    "        DataFields.converged: res.converged,\n",
    "    })\n",
    "\n",
    "approximate_roots = get_roots_out_of_screen_points()"
   ],
   "id": "39890699077274d7",
   "outputs": [],
   "execution_count": 4
  },
  {
   "metadata": {},
   "cell_type": "markdown",
   "source": [
    "At this point we have a table of every screen (image) point with their approximate root coordinates and number of iterations that it took to find a root.\n",
    "Now we can use K-means method to clusterize every screen point by the root it leads to.\n",
    "This info will be used to paint every starting point to color that represents every root."
   ],
   "id": "4bf2efd9afddecd8"
  },
  {
   "metadata": {
    "ExecuteTime": {
     "end_time": "2025-05-25T05:04:32.009943Z",
     "start_time": "2025-05-25T05:04:29.923588Z"
    }
   },
   "cell_type": "code",
   "source": [
    "from sklearn.cluster import KMeans\n",
    "\n",
    "model = KMeans(n_clusters=len(target_roots), n_init=8, random_state=42)\n",
    "clusters = model.fit_predict(approximate_roots[[DataFields.root_virtual_x, DataFields.root_virtual_y]].values)\n",
    "approximate_roots[DataFields.label] = pd.DataFrame(clusters)"
   ],
   "id": "3e7077c965f1e18a",
   "outputs": [],
   "execution_count": 5
  },
  {
   "metadata": {},
   "cell_type": "markdown",
   "source": [
    "Now we can add color for every point in the table.\n",
    "\n",
    "The trick is that every root have its basic color. Every point that leads to that root (via newton method) use that basic color but value changes based of number of iterations it took to find out the root.\n",
    "\n",
    "That trick helps us get more beautiful image with some contrast."
   ],
   "id": "3a84f381cedae3e7"
  },
  {
   "metadata": {
    "ExecuteTime": {
     "end_time": "2025-05-25T05:04:32.268466Z",
     "start_time": "2025-05-25T05:04:32.021047Z"
    }
   },
   "cell_type": "code",
   "source": [
    "from colorsys import hsv_to_rgb\n",
    "\n",
    "def get_color_by_cluster_and_iterations(root_row: pd.DataFrame) -> (int, int, int):\n",
    "    label = np.int8(root_row[DataFields.label])\n",
    "    hue, saturation, value_min, value_max = color_by_labels[label]\n",
    "    converged = root_row[DataFields.converged]\n",
    "    if converged:\n",
    "        hue, saturation, value = hue / 100., saturation / 100., value_max / 100.\n",
    "        r, g, b = hsv_to_rgb(hue, saturation, value)\n",
    "        return int(r * 255), int(g * 255), int(b * 255)\n",
    "    else:\n",
    "        return 0, 0, 0\n",
    "\n",
    "approximate_roots[DataFields.color] = approximate_roots.apply(get_color_by_cluster_and_iterations, axis=1)"
   ],
   "id": "da2919d73fd7cab",
   "outputs": [],
   "execution_count": 6
  },
  {
   "metadata": {},
   "cell_type": "markdown",
   "source": "We have all we need to print basins. To do that we have to iterate over all rows in our table and paint described points to specified colors.",
   "id": "543cc735e0f3784f"
  },
  {
   "metadata": {
    "ExecuteTime": {
     "end_time": "2025-05-25T05:04:33.135849Z",
     "start_time": "2025-05-25T05:04:32.277680Z"
    }
   },
   "cell_type": "code",
   "source": [
    "from PIL import Image\n",
    "\n",
    "img = Image.new(\"RGB\", screen_size, \"black\")\n",
    "\n",
    "def is_in_image(x, y):\n",
    "    return (0 <= x < screen_size[0] - 1) and (0 <= y < screen_size[1] - 1)\n",
    "\n",
    "def generate_basins_image(image: Image):\n",
    "    pixels = image.load()\n",
    "    for _, row in approximate_roots.iterrows():\n",
    "        sx = row[DataFields.screen_x]\n",
    "        sy = row[DataFields.screen_y]\n",
    "        pixels[sx, sy] = row[DataFields.color]\n",
    "    for root in target_roots:\n",
    "        vx, vy = root.real, root.imag\n",
    "        sx, sy = virtual_to_screen(vx, vy)\n",
    "        print(vx, vy, sx, sy)\n",
    "        if is_in_image(sx, sy):\n",
    "            pixels[sx, sy] = (255, 255, 255)\n",
    "    svx0, svy0 = virtual_to_screen(0, 0)\n",
    "    if is_in_image(svx0, svy0):\n",
    "        pixels[svx0, svy0] = (0, 0, 0)\n",
    "\n",
    "generate_basins_image(img)"
   ],
   "id": "90cec460e0362851",
   "outputs": [
    {
     "name": "stdout",
     "output_type": "stream",
     "text": [
      "1.2 -4.0 -486 4838\n",
      "3.0 2.4 1357 -1715\n",
      "-1.2 -1.4 -2944 2176\n"
     ]
    }
   ],
   "execution_count": 7
  },
  {
   "metadata": {},
   "cell_type": "markdown",
   "source": "It's all done now. Time to show the result!",
   "id": "3b90a47a58d62671"
  },
  {
   "metadata": {
    "ExecuteTime": {
     "end_time": "2025-05-25T05:04:33.162752Z",
     "start_time": "2025-05-25T05:04:33.143238Z"
    }
   },
   "cell_type": "code",
   "source": [
    "img.show()\n",
    "img.save('basins.png')"
   ],
   "id": "1efb4a7b6403f4bc",
   "outputs": [],
   "execution_count": 8
  }
 ],
 "metadata": {
  "kernelspec": {
   "display_name": "Python 3",
   "language": "python",
   "name": "python3"
  },
  "language_info": {
   "codemirror_mode": {
    "name": "ipython",
    "version": 2
   },
   "file_extension": ".py",
   "mimetype": "text/x-python",
   "name": "python",
   "nbconvert_exporter": "python",
   "pygments_lexer": "ipython2",
   "version": "2.7.6"
  }
 },
 "nbformat": 4,
 "nbformat_minor": 5
}
